{
 "cells": [
  {
   "cell_type": "markdown",
   "metadata": {},
   "source": [
    "# データサイエンス概論 レポート\n",
    "\n",
    "学籍番号201621639 山田純也\n",
    "\n",
    "協力者： 関根 吉紀 長尾 悠真 中田 周育"
   ]
  },
  {
   "cell_type": "code",
   "execution_count": 1,
   "metadata": {
    "collapsed": false
   },
   "outputs": [
    {
     "name": "stdout",
     "output_type": "stream",
     "text": [
      "Populating the interactive namespace from numpy and matplotlib\n"
     ]
    }
   ],
   "source": [
    "import numpy as np\n",
    "import numpy.linalg as la\n",
    "import pandas as pd\n",
    "%pylab inline\n",
    "from sympy import *\n",
    "init_printing()\n",
    "X = pd.read_csv('datas.csv', names=('v', 'v1', 'v2', 'v3'))\n",
    "Y = pd.read_csv('datas2.csv', names=('v1', 'vv'))"
   ]
  },
  {
   "cell_type": "markdown",
   "metadata": {},
   "source": [
    "# 問1"
   ]
  },
  {
   "cell_type": "markdown",
   "metadata": {},
   "source": [
    "# 問1(1) 積和行列を係数とする正規方程式を作って解く"
   ]
  },
  {
   "cell_type": "markdown",
   "metadata": {},
   "source": [
    "まず，積和行列$ X $と$ Y $を求める．\n",
    "$x$が説明変数のデータ行列，$y$が目的変数のデータ行列だとすると，\n",
    "\n",
    "$X = x^{T} x$\n",
    "\n",
    "$Y = x^{T} y$\n",
    "\n",
    "となる．"
   ]
  },
  {
   "cell_type": "code",
   "execution_count": 2,
   "metadata": {
    "collapsed": false
   },
   "outputs": [],
   "source": [
    "x_11 = np.asarray(X)\n",
    "y_11 = np.asarray(Y)[:, 0][:, np.newaxis]\n",
    "xx = x_11.T.dot(x_11)\n",
    "yy = x_11.T.dot(y_11)\n",
    "A_11 = la.inv(xx).dot(yy)"
   ]
  },
  {
   "cell_type": "markdown",
   "metadata": {},
   "source": [
    "求めた$X$は，次の通り．"
   ]
  },
  {
   "cell_type": "code",
   "execution_count": 3,
   "metadata": {
    "collapsed": false
   },
   "outputs": [
    {
     "data": {
      "image/png": "[encoded data removed]",
      "text/latex": [
       "$$\\left[\\begin{matrix}15.0 & 500.0 & 2349.0 & 711.0\\\\500.0 & 17348.0 & 78674.0 & 24451.0\\\\2349.0 & 78674.0 & 368585.0 & 111981.0\\\\711.0 & 24451.0 & 111981.0 & 34857.0\\end{matrix}\\right]$$"
      ],
      "text/plain": [
       "⎡ 15.0    500.0    2349.0    711.0  ⎤\n",
       "⎢                                   ⎥\n",
       "⎢500.0   17348.0  78674.0   24451.0 ⎥\n",
       "⎢                                   ⎥\n",
       "⎢2349.0  78674.0  368585.0  111981.0⎥\n",
       "⎢                                   ⎥\n",
       "⎣711.0   24451.0  111981.0  34857.0 ⎦"
      ]
     },
     "execution_count": 3,
     "metadata": {},
     "output_type": "execute_result"
    }
   ],
   "source": [
    "Matrix(xx)"
   ]
  },
  {
   "cell_type": "markdown",
   "metadata": {},
   "source": [
    "求めた$Y$は，次の通り．"
   ]
  },
  {
   "cell_type": "code",
   "execution_count": 4,
   "metadata": {
    "collapsed": false
   },
   "outputs": [
    {
     "data": {
      "image/png": "[encoded data removed]",
      "text/latex": [
       "$$\\left[\\begin{matrix}393.0\\\\13395.0\\\\61824.0\\\\19033.0\\end{matrix}\\right]$$"
      ],
      "text/plain": [
       "⎡ 393.0 ⎤\n",
       "⎢       ⎥\n",
       "⎢13395.0⎥\n",
       "⎢       ⎥\n",
       "⎢61824.0⎥\n",
       "⎢       ⎥\n",
       "⎣19033.0⎦"
      ]
     },
     "execution_count": 4,
     "metadata": {},
     "output_type": "execute_result"
    }
   ],
   "source": [
    "Matrix(yy)"
   ]
  },
  {
   "cell_type": "markdown",
   "metadata": {},
   "source": [
    "求める成分$a_{0},a_{1},a_{2},a_{3}$ を $A = \\left( a_{0} a_{1} a_{2} a_{3} \\right)^{T}$ とおくと，\n",
    "積和行列を用いて\n",
    "\n",
    "$ XA = Y $\n",
    "\n",
    "となる．\n",
    "$X$の逆行列$X^{-1}$を左から乗じると，\n",
    "\n",
    "$ X^{-1} X A = X^{-1} Y $\n",
    "\n",
    "$ A = X^{-1} Y $\n",
    "\n",
    "となり，$A$を求めることができる．\n",
    "実際に求めた$A$が以下のとおりである．"
   ]
  },
  {
   "cell_type": "code",
   "execution_count": 5,
   "metadata": {
    "collapsed": false
   },
   "outputs": [
    {
     "data": {
      "image/png": "[encoded data removed]",
      "text/latex": [
       "$$\\left[\\begin{matrix}-13.2172983163764\\\\0.201376887707632\\\\0.171024571169944\\\\0.124942775265382\\end{matrix}\\right]$$"
      ],
      "text/plain": [
       "⎡-13.2172983163764⎤\n",
       "⎢                 ⎥\n",
       "⎢0.201376887707632⎥\n",
       "⎢                 ⎥\n",
       "⎢0.171024571169944⎥\n",
       "⎢                 ⎥\n",
       "⎣0.124942775265382⎦"
      ]
     },
     "execution_count": 5,
     "metadata": {},
     "output_type": "execute_result"
    }
   ],
   "source": [
    "Matrix(A_11)"
   ]
  },
  {
   "cell_type": "markdown",
   "metadata": {},
   "source": [
    "# 問1-2 偏差積和行列を係数とする正規方程式を作って解く"
   ]
  },
  {
   "cell_type": "markdown",
   "metadata": {},
   "source": [
    "まず，偏差積和行列$ X' $と$ Y' $を求める．\n",
    "また，$x'$が$x$の偏差行列だとすると，\n",
    "\n",
    "$X' = x'^{T} x'$\n",
    "\n",
    "$Y' = x'^{T} y$\n",
    "\n",
    "となる．"
   ]
  },
  {
   "cell_type": "code",
   "execution_count": 6,
   "metadata": {
    "collapsed": false
   },
   "outputs": [],
   "source": [
    "x_ = np.asarray(X)[:, [1, 2, 3]]\n",
    "x_mean = x_.mean(axis=0)\n",
    "x_ = x_ - x_mean\n",
    "x_12 = np.ones((x_.shape[0], x_.shape[1] + 1))\n",
    "x_12[:, 1:] = x_\n",
    "y_12 = np.asarray(Y)[:, 0][:, np.newaxis]\n",
    "xx = x_12.T.dot(x_12)\n",
    "yy = x_12.T.dot(y_12)\n",
    "A_12 = np.linalg.inv(xx).dot(yy)"
   ]
  },
  {
   "cell_type": "markdown",
   "metadata": {},
   "source": [
    "求めた$X'$は，次の通り．"
   ]
  },
  {
   "cell_type": "code",
   "execution_count": 7,
   "metadata": {
    "collapsed": false
   },
   "outputs": [
    {
     "data": {
      "image/png": "[encoded data removed]",
      "text/latex": [
       "$$\\left[\\begin{matrix}15.0 & -3.5527136788005 \\cdot 10^{-14} & 8.5265128291212 \\cdot 10^{-14} & 2.1316282072803 \\cdot 10^{-14}\\\\-3.5527136788005 \\cdot 10^{-14} & 681.333333333333 & 374.0 & 751.0\\\\8.5265128291212 \\cdot 10^{-14} & 374.0 & 731.6 & 638.4\\\\2.1316282072803 \\cdot 10^{-14} & 751.0 & 638.4 & 1155.6\\end{matrix}\\right]$$"
      ],
      "text/plain": [
       "⎡        15.0          -3.5527136788005e-14  8.5265128291212e-14  2.1316282072\n",
       "⎢                                                                             \n",
       "⎢-3.5527136788005e-14    681.333333333333           374.0                751.0\n",
       "⎢                                                                             \n",
       "⎢8.5265128291212e-14          374.0                 731.6                638.4\n",
       "⎢                                                                             \n",
       "⎣2.1316282072803e-14          751.0                 638.4               1155.6\n",
       "\n",
       "803e-14⎤\n",
       "       ⎥\n",
       "       ⎥\n",
       "       ⎥\n",
       "       ⎥\n",
       "       ⎥\n",
       "       ⎦"
      ]
     },
     "execution_count": 7,
     "metadata": {},
     "output_type": "execute_result"
    }
   ],
   "source": [
    "Matrix(xx)"
   ]
  },
  {
   "cell_type": "markdown",
   "metadata": {},
   "source": [
    "求めた$Y'$は，次の通り．"
   ]
  },
  {
   "cell_type": "code",
   "execution_count": 8,
   "metadata": {
    "collapsed": false
   },
   "outputs": [
    {
     "data": {
      "image/png": "[encoded data removed]",
      "text/latex": [
       "$$\\left[\\begin{matrix}393.0\\\\294.999999999999\\\\280.200000000002\\\\404.8\\end{matrix}\\right]$$"
      ],
      "text/plain": [
       "⎡     393.0      ⎤\n",
       "⎢                ⎥\n",
       "⎢294.999999999999⎥\n",
       "⎢                ⎥\n",
       "⎢280.200000000002⎥\n",
       "⎢                ⎥\n",
       "⎣     404.8      ⎦"
      ]
     },
     "execution_count": 8,
     "metadata": {},
     "output_type": "execute_result"
    }
   ],
   "source": [
    "Matrix(yy)"
   ]
  },
  {
   "cell_type": "markdown",
   "metadata": {},
   "source": [
    "この問で求める成分を$A' = \\left( a_{0} a_{1} a_{2} a_{3} \\right)^{T}$ とおくと，\n",
    "積和行列を用いて\n",
    "\n",
    "$ X'A' = Y' $\n",
    "\n",
    "となる．\n",
    "$X'$の逆行列$X'^{-1}$を左から乗じると，\n",
    "\n",
    "$ X'^{-1} X' A' = X'^{-1} Y' $\n",
    "\n",
    "$ A' = X'^{-1} Y' $\n",
    "\n",
    "となり，$A'$を求めることができる．\n",
    "実際に求めた$A'$が以下のとおりである．"
   ]
  },
  {
   "cell_type": "code",
   "execution_count": 9,
   "metadata": {
    "collapsed": false,
    "scrolled": false
   },
   "outputs": [
    {
     "data": {
      "image/png": "[encoded data removed]",
      "text/latex": [
       "$$\\left[\\begin{matrix}26.2\\\\0.201376887707657\\\\0.171024571169932\\\\0.124942775265373\\end{matrix}\\right]$$"
      ],
      "text/plain": [
       "⎡      26.2       ⎤\n",
       "⎢                 ⎥\n",
       "⎢0.201376887707657⎥\n",
       "⎢                 ⎥\n",
       "⎢0.171024571169932⎥\n",
       "⎢                 ⎥\n",
       "⎣0.124942775265373⎦"
      ]
     },
     "execution_count": 9,
     "metadata": {},
     "output_type": "execute_result"
    }
   ],
   "source": [
    "Matrix(A_12)"
   ]
  },
  {
   "cell_type": "markdown",
   "metadata": {},
   "source": [
    "この結果を見ればわかるが，$a_{0}$以外の要素は先程問1(1)で求めた値と殆ど同じである．"
   ]
  },
  {
   "cell_type": "markdown",
   "metadata": {},
   "source": [
    "# 問2 ベクトル $y - \\hat{y}$ の長さを求める"
   ]
  },
  {
   "cell_type": "markdown",
   "metadata": {},
   "source": [
    "ここで$y$は目的変数の測定値，\n",
    "$\\hat{y}$は重回帰分析によって求めた$A$および$A'$を用いて求めた値とする．\n",
    "\n",
    "$A$と$A'$でそれぞれ長さを求める．"
   ]
  },
  {
   "cell_type": "code",
   "execution_count": 31,
   "metadata": {
    "collapsed": false
   },
   "outputs": [],
   "source": [
    "yr_11 = x_11.dot(A_11)\n",
    "yr_12 = x_12.dot(A_12)\n",
    "y = np.asarray(Y)[:, 0][:, np.newaxis]\n",
    "n1 = la.norm(yr_11 - y_11)\n",
    "n2 = la.norm(yr_12 - y_12)"
   ]
  },
  {
   "cell_type": "markdown",
   "metadata": {},
   "source": [
    "問1(1)で求めた$A$を用いた場合のベクトル $y - \\hat{y}$ の長さは，以下の通りである．"
   ]
  },
  {
   "cell_type": "code",
   "execution_count": 32,
   "metadata": {
    "collapsed": false
   },
   "outputs": [
    {
     "data": {
      "image/png": "[encoded data removed]",
      "text/latex": [
       "$$8.39618352926$$"
      ],
      "text/plain": [
       "8.39618352926"
      ]
     },
     "execution_count": 32,
     "metadata": {},
     "output_type": "execute_result"
    }
   ],
   "source": [
    "n1"
   ]
  },
  {
   "cell_type": "markdown",
   "metadata": {},
   "source": [
    "問1(2)で求めた$A'$を用いた場合のベクトル $y - \\hat{y}$ の長さは，以下の通りである．"
   ]
  },
  {
   "cell_type": "code",
   "execution_count": 33,
   "metadata": {
    "collapsed": false
   },
   "outputs": [
    {
     "data": {
      "image/png": "[encoded data removed]",
      "text/latex": [
       "$$8.39618352926$$"
      ],
      "text/plain": [
       "8.39618352926"
      ]
     },
     "execution_count": 33,
     "metadata": {},
     "output_type": "execute_result"
    }
   ],
   "source": [
    "n2"
   ]
  },
  {
   "cell_type": "markdown",
   "metadata": {},
   "source": [
    "従って積和行列を用いて重回帰分析を行った場合も，偏差積和行列を用いて重回帰分析を行った場合も，\n",
    "求めた最適な$a_{0}$の値こそ異なるが，予測を行った際の誤差は同じ値となることがわかった．"
   ]
  },
  {
   "cell_type": "markdown",
   "metadata": {},
   "source": [
    "# 問3 主成分分析"
   ]
  },
  {
   "cell_type": "code",
   "execution_count": 13,
   "metadata": {
    "collapsed": false
   },
   "outputs": [],
   "source": [
    "x_ = np.asarray(X)[:, [1, 2, 3]]\n",
    "x_mean = x_.mean(axis=0)\n",
    "x_3 = x_ - x_mean"
   ]
  },
  {
   "cell_type": "code",
   "execution_count": 14,
   "metadata": {
    "collapsed": true
   },
   "outputs": [],
   "source": [
    "xx = x_3.T.dot(x_3)"
   ]
  },
  {
   "cell_type": "code",
   "execution_count": 15,
   "metadata": {
    "collapsed": false
   },
   "outputs": [],
   "source": [
    "ef, ev = la.eig(xx)"
   ]
  },
  {
   "cell_type": "code",
   "execution_count": 16,
   "metadata": {
    "collapsed": false
   },
   "outputs": [],
   "source": [
    "# 固有値と固有ベクトルのソート\n",
    "max_ef = 0.\n",
    "for i in range(len(ef)):\n",
    "    max_i = None\n",
    "    max_ef = 0.\n",
    "    for j in range(i, len(ef)):\n",
    "        if max_ef < ef[j]:\n",
    "            max_i = j\n",
    "            max_ef = ef[j]\n",
    "            \n",
    "    tmp1 = ef[i].copy()\n",
    "    tmp2 = ev[:, i].copy()\n",
    "    ef[i] = ef[max_i].copy()\n",
    "    ev[:, i] = ev[:, max_i].copy()\n",
    "    ef[max_i] = tmp1\n",
    "    ev[:, max_i] = tmp2"
   ]
  },
  {
   "cell_type": "markdown",
   "metadata": {},
   "source": [
    "## 問3(1) 偏差積和行列の固有値3つを求める"
   ]
  },
  {
   "cell_type": "markdown",
   "metadata": {},
   "source": [
    "まず，偏差積和行列$ X' $を求める．\n",
    "また，$x'$が$x$の偏差行列だとすると，\n",
    "\n",
    "$X' = x'^{T} x'$\n",
    "\n",
    "となる．\n",
    "\n",
    "ただし，先程の問1(2)で用いた偏差積和行列とは違い，\n",
    "データ列に定数項の計算に用いる $1$ を挿入していないため，\n",
    "偏差積和行列の大きさは $3 \\times 3$ となる．"
   ]
  },
  {
   "cell_type": "markdown",
   "metadata": {},
   "source": [
    "求めた$X'$は，次の通り．"
   ]
  },
  {
   "cell_type": "code",
   "execution_count": 17,
   "metadata": {
    "collapsed": false,
    "scrolled": true
   },
   "outputs": [
    {
     "data": {
      "image/png": "[encoded data removed]",
      "text/latex": [
       "$$\\left[\\begin{matrix}681.333333333333 & 374.0 & 751.0\\\\374.0 & 731.6 & 638.4\\\\751.0 & 638.4 & 1155.6\\end{matrix}\\right]$$"
      ],
      "text/plain": [
       "⎡681.333333333333  374.0  751.0 ⎤\n",
       "⎢                               ⎥\n",
       "⎢     374.0        731.6  638.4 ⎥\n",
       "⎢                               ⎥\n",
       "⎣     751.0        638.4  1155.6⎦"
      ]
     },
     "execution_count": 17,
     "metadata": {},
     "output_type": "execute_result"
    }
   ],
   "source": [
    "Matrix(xx)"
   ]
  },
  {
   "cell_type": "markdown",
   "metadata": {},
   "source": [
    "求めた固有値は，次の3つである．"
   ]
  },
  {
   "cell_type": "code",
   "execution_count": 18,
   "metadata": {
    "collapsed": false
   },
   "outputs": [
    {
     "data": {
      "image/png": "[encoded data removed]",
      "text/latex": [
       "$$\\left[\\begin{matrix}2102.10812120784 & 355.877512637534 & 110.54769948796\\end{matrix}\\right]$$"
      ],
      "text/plain": [
       "[2102.10812120784  355.877512637534  110.54769948796]"
      ]
     },
     "execution_count": 18,
     "metadata": {},
     "output_type": "execute_result"
    }
   ],
   "source": [
    "Matrix(ef).T"
   ]
  },
  {
   "cell_type": "markdown",
   "metadata": {},
   "source": [
    "## 問3(2)"
   ]
  },
  {
   "cell_type": "markdown",
   "metadata": {},
   "source": [
    "求めた固有ベクトルは，以下の通りである．\n",
    "先程の問3(1)で求めた固有値にそれぞれ対応している．\n",
    "\n",
    "また，固有値が大きい順に並べており，順番に第一主成分，第二主成分，第三主成分となっている．"
   ]
  },
  {
   "cell_type": "code",
   "execution_count": 19,
   "metadata": {
    "collapsed": false,
    "scrolled": true
   },
   "outputs": [
    {
     "name": "stdout",
     "output_type": "stream",
     "text": [
      "固有値 2102.1081212078398 に対応している固有ベクトル\n"
     ]
    },
    {
     "data": {
      "image/png": "[encoded data removed]",
      "text/latex": [
       "$$\\left[\\begin{matrix}-0.505778333258832\\\\-0.473821861889441\\\\-0.720889118243258\\end{matrix}\\right]$$"
      ],
      "text/plain": [
       "⎡-0.505778333258832⎤\n",
       "⎢                  ⎥\n",
       "⎢-0.473821861889441⎥\n",
       "⎢                  ⎥\n",
       "⎣-0.720889118243258⎦"
      ]
     },
     "execution_count": 19,
     "metadata": {},
     "output_type": "execute_result"
    }
   ],
   "source": [
    "print('固有値 {} に対応している固有ベクトル'.format(ef[0]))\n",
    "Matrix(ev[:, 0])"
   ]
  },
  {
   "cell_type": "code",
   "execution_count": 20,
   "metadata": {
    "collapsed": false,
    "scrolled": true
   },
   "outputs": [
    {
     "name": "stdout",
     "output_type": "stream",
     "text": [
      "固有値 355.87751263753404 に対応している固有ベクトル\n"
     ]
    },
    {
     "data": {
      "image/png": "[encoded data removed]",
      "text/latex": [
       "$$\\left[\\begin{matrix}0.499953851118198\\\\-0.842006600661878\\\\0.202659890441869\\end{matrix}\\right]$$"
      ],
      "text/plain": [
       "⎡0.499953851118198 ⎤\n",
       "⎢                  ⎥\n",
       "⎢-0.842006600661878⎥\n",
       "⎢                  ⎥\n",
       "⎣0.202659890441869 ⎦"
      ]
     },
     "execution_count": 20,
     "metadata": {},
     "output_type": "execute_result"
    }
   ],
   "source": [
    "print('固有値 {} に対応している固有ベクトル'.format(ef[1]))\n",
    "Matrix(ev[:, 1])"
   ]
  },
  {
   "cell_type": "code",
   "execution_count": 21,
   "metadata": {
    "collapsed": false,
    "scrolled": true
   },
   "outputs": [
    {
     "name": "stdout",
     "output_type": "stream",
     "text": [
      "固有値 110.5476994879596 に対応している固有ベクトル\n"
     ]
    },
    {
     "data": {
      "image/png": "[encoded data removed]",
      "text/latex": [
       "$$\\left[\\begin{matrix}-0.703018082525621\\\\-0.257910309288812\\\\0.662757759671321\\end{matrix}\\right]$$"
      ],
      "text/plain": [
       "⎡-0.703018082525621⎤\n",
       "⎢                  ⎥\n",
       "⎢-0.257910309288812⎥\n",
       "⎢                  ⎥\n",
       "⎣0.662757759671321 ⎦"
      ]
     },
     "execution_count": 21,
     "metadata": {},
     "output_type": "execute_result"
    }
   ],
   "source": [
    "print('固有値 {} に対応している固有ベクトル'.format(ef[2]))\n",
    "Matrix(ev[:, 2])"
   ]
  },
  {
   "cell_type": "markdown",
   "metadata": {},
   "source": [
    "## 問3(3) $Wz(a_{1},a_{2},a_{3})$ を求める"
   ]
  },
  {
   "cell_type": "code",
   "execution_count": 22,
   "metadata": {
    "collapsed": false
   },
   "outputs": [],
   "source": [
    "z = x_3.dot(ev)\n",
    "z_mean = z.mean(axis=0)\n",
    "z_dev = z - z_mean\n",
    "wz = (z_dev**2).sum(axis=0)"
   ]
  },
  {
   "cell_type": "markdown",
   "metadata": {},
   "source": [
    "$Wz(a_{1},a_{2},a_{3}) \\equiv \\Sigma (z_{i} - \\bar{z})$と定義されている．\n",
    "それぞれ，第一，第二，第三主成分の $Wz(a_{1},a_{2},a_{3})$ を求める．"
   ]
  },
  {
   "cell_type": "markdown",
   "metadata": {},
   "source": [
    "第一主成分に対応する $Wz(a_{1},a_{2},a_{3})$ は次の通り．"
   ]
  },
  {
   "cell_type": "code",
   "execution_count": 23,
   "metadata": {
    "collapsed": false,
    "scrolled": false
   },
   "outputs": [
    {
     "data": {
      "image/png": "[encoded data removed]",
      "text/latex": [
       "$$2102.10812121$$"
      ],
      "text/plain": [
       "2102.10812121"
      ]
     },
     "execution_count": 23,
     "metadata": {},
     "output_type": "execute_result"
    }
   ],
   "source": [
    "wz[0]"
   ]
  },
  {
   "cell_type": "markdown",
   "metadata": {},
   "source": [
    "第二主成分に対応する $Wz(a_{1},a_{2},a_{3})$ は次の通り．"
   ]
  },
  {
   "cell_type": "code",
   "execution_count": 24,
   "metadata": {
    "collapsed": false,
    "scrolled": false
   },
   "outputs": [
    {
     "data": {
      "image/png": "[encoded data removed]",
      "text/latex": [
       "$$355.877512638$$"
      ],
      "text/plain": [
       "355.877512638"
      ]
     },
     "execution_count": 24,
     "metadata": {},
     "output_type": "execute_result"
    }
   ],
   "source": [
    "wz[1]"
   ]
  },
  {
   "cell_type": "markdown",
   "metadata": {},
   "source": [
    "第三主成分に対応する $Wz(a_{1},a_{2},a_{3})$ は次の通り．"
   ]
  },
  {
   "cell_type": "code",
   "execution_count": 25,
   "metadata": {
    "collapsed": false,
    "scrolled": false
   },
   "outputs": [
    {
     "data": {
      "image/png": "[encoded data removed]",
      "text/latex": [
       "$$110.547699488$$"
      ],
      "text/plain": [
       "110.547699488"
      ]
     },
     "execution_count": 25,
     "metadata": {},
     "output_type": "execute_result"
    }
   ],
   "source": [
    "wz[2]"
   ]
  },
  {
   "cell_type": "markdown",
   "metadata": {},
   "source": [
    "これらの値はそれぞれ第一，第二，第三主成分に対応する固有値と同じである．"
   ]
  },
  {
   "cell_type": "markdown",
   "metadata": {},
   "source": [
    "# 問4 全体の分散が $\\Sigma$各主成分の分散となることを確認する"
   ]
  },
  {
   "cell_type": "markdown",
   "metadata": {},
   "source": [
    "先程の問3で求めたものをデータ数で割ったものが，各主成分の分散である．\n",
    "すなわちこれらの合計と，主成分全体の分散が一致すればよい．"
   ]
  },
  {
   "cell_type": "markdown",
   "metadata": {},
   "source": [
    "$\\Sigma$各主成分の分散 は，以下の値となる"
   ]
  },
  {
   "cell_type": "code",
   "execution_count": 26,
   "metadata": {
    "collapsed": false,
    "scrolled": false
   },
   "outputs": [
    {
     "data": {
      "image/png": "[encoded data removed]",
      "text/latex": [
       "$$171.235555556$$"
      ],
      "text/plain": [
       "171.235555556"
      ]
     },
     "execution_count": 26,
     "metadata": {},
     "output_type": "execute_result"
    }
   ],
   "source": [
    "wz.sum() / len(z)"
   ]
  },
  {
   "cell_type": "markdown",
   "metadata": {},
   "source": [
    "また，主成分全体の分散が，以下の値である．"
   ]
  },
  {
   "cell_type": "code",
   "execution_count": 27,
   "metadata": {
    "collapsed": false
   },
   "outputs": [
    {
     "data": {
      "image/png": "[encoded data removed]",
      "text/latex": [
       "$$171.235555556$$"
      ],
      "text/plain": [
       "171.235555556"
      ]
     },
     "execution_count": 27,
     "metadata": {},
     "output_type": "execute_result"
    }
   ],
   "source": [
    "(z**2).sum() / len(z)"
   ]
  },
  {
   "cell_type": "markdown",
   "metadata": {},
   "source": [
    "従って，全体の分散が $\\Sigma$各主成分の分散 であることが確認された．"
   ]
  }
 ],
 "metadata": {
  "kernelspec": {
   "display_name": "Python 3",
   "language": "python",
   "name": "python3"
  },
  "language_info": {
   "codemirror_mode": {
    "name": "ipython",
    "version": 3
   },
   "file_extension": ".py",
   "mimetype": "text/x-python",
   "name": "python",
   "nbconvert_exporter": "python",
   "pygments_lexer": "ipython3",
   "version": "3.5.1"
  }
 },
 "nbformat": 4,
 "nbformat_minor": 0
}
