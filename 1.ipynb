{
 "cells": [
  {
   "cell_type": "code",
   "execution_count": 123,
   "metadata": {
    "collapsed": true
   },
   "outputs": [],
   "source": [
    "import numpy as np\n",
    "import pandas as pd\n",
    "import matplotlib.pyplot as plt\n",
    "import seaborn as sns\n",
    "import scipy\n",
    "%matplotlib inline"
   ]
  },
  {
   "cell_type": "code",
   "execution_count": null,
   "metadata": {
    "collapsed": true
   },
   "outputs": [],
   "source": [
    "# 資料1"
   ]
  },
  {
   "cell_type": "code",
   "execution_count": 2,
   "metadata": {
    "collapsed": true
   },
   "outputs": [],
   "source": [
    "x1 = [465., 521., 207., 62., 52.]\n",
    "x2 = [423., 655., 406., 1320., 440.]"
   ]
  },
  {
   "cell_type": "code",
   "execution_count": 10,
   "metadata": {
    "collapsed": true
   },
   "outputs": [],
   "source": [
    "def avevar(xx):\n",
    "    ave = 0.\n",
    "    for x in xx:\n",
    "        ave += x\n",
    "\n",
    "    ave = ave / len(x1)\n",
    "\n",
    "    var = 0.\n",
    "    for x in xx:\n",
    "        var += (x - ave)**2\n",
    "    var = var / len(x1)\n",
    "    \n",
    "    return ave, var"
   ]
  },
  {
   "cell_type": "code",
   "execution_count": 80,
   "metadata": {
    "collapsed": false
   },
   "outputs": [],
   "source": [
    "def norm(xx, ave, var):\n",
    "    xxx = []\n",
    "    for x in xx:\n",
    "        xxx.append((x - ave) / (var ** (1/2)))\n",
    "        \n",
    "    return xxx"
   ]
  },
  {
   "cell_type": "code",
   "execution_count": 77,
   "metadata": {
    "collapsed": false
   },
   "outputs": [
    {
     "name": "stdout",
     "output_type": "stream",
     "text": [
      "[0.9211509854029363, 1.174512749560915, -0.2461228566106076, -0.9021488530910877, -0.9473920252621553]\n",
      "(1.3322676295501878e-16, 0.7999999999999999)\n"
     ]
    }
   ],
   "source": [
    "ave, var = avevar(x1)\n",
    "x1__ = norm(x1, ave, var*5/4)\n",
    "print(x1__)\n",
    "ave_, var_ = avevar(x1__)\n",
    "print(avevar(x1__))"
   ]
  },
  {
   "cell_type": "code",
   "execution_count": 82,
   "metadata": {
    "collapsed": false
   },
   "outputs": [
    {
     "name": "stdout",
     "output_type": "stream",
     "text": [
      "0.00020000000000002237 0.9999487000000001\n"
     ]
    }
   ],
   "source": [
    "x1_ = [0.921, 1.175, -0.246, -0.902, -0.947]\n",
    "x2_ = [-0.581, 0.016, -0.625, 1.727, -0.537]\n",
    "ave_, var_ = avevar(x1_)\n",
    "print(ave_, var_ *5/4)"
   ]
  },
  {
   "cell_type": "code",
   "execution_count": 29,
   "metadata": {
    "collapsed": false
   },
   "outputs": [
    {
     "data": {
      "text/plain": [
       "2.264447173152865"
      ]
     },
     "execution_count": 29,
     "metadata": {},
     "output_type": "execute_result"
    }
   ],
   "source": [
    "i = 3\n",
    "j = 4\n",
    "((x1_[i] - x1_[j])**2 + (x2_[i] - x2_[j])**2) ** (1/2)"
   ]
  },
  {
   "cell_type": "code",
   "execution_count": 34,
   "metadata": {
    "collapsed": false
   },
   "outputs": [
    {
     "name": "stdout",
     "output_type": "stream",
     "text": [
      "1.048\n",
      "-0.2825\n"
     ]
    }
   ],
   "source": [
    "i = 0\n",
    "j = 1\n",
    "c1_1 = (x1_[i] + x1_[j]) / 2\n",
    "c1_2 = (x2_[i] + x2_[j]) / 2\n",
    "print(c1_1)\n",
    "print(c1_2)"
   ]
  },
  {
   "cell_type": "code",
   "execution_count": 37,
   "metadata": {
    "collapsed": false
   },
   "outputs": [
    {
     "data": {
      "text/plain": [
       "2.011167633490555"
      ]
     },
     "execution_count": 37,
     "metadata": {},
     "output_type": "execute_result"
    }
   ],
   "source": [
    "i = 4\n",
    "((x1_[i] - c1_1)**2 + (x2_[i] - c1_2)**2) ** (1/2)"
   ]
  },
  {
   "cell_type": "code",
   "execution_count": 39,
   "metadata": {
    "collapsed": false
   },
   "outputs": [
    {
     "name": "stdout",
     "output_type": "stream",
     "text": [
      "-0.5965\n",
      "-0.581\n"
     ]
    }
   ],
   "source": [
    "i = 2\n",
    "j = 4\n",
    "c2_1 = (x1_[i] + x1_[j]) / 2\n",
    "c2_2 = (x2_[i] + x2_[j]) / 2\n",
    "print(c2_1)\n",
    "print(c2_2)"
   ]
  },
  {
   "cell_type": "code",
   "execution_count": 42,
   "metadata": {
    "collapsed": false
   },
   "outputs": [
    {
     "data": {
      "text/plain": [
       "1.6713714428576312"
      ]
     },
     "execution_count": 42,
     "metadata": {},
     "output_type": "execute_result"
    }
   ],
   "source": [
    "((c1_1 - c2_1)**2 + (c1_2 - c2_2)**2) ** (1/2)"
   ]
  },
  {
   "cell_type": "code",
   "execution_count": 44,
   "metadata": {
    "collapsed": true
   },
   "outputs": [],
   "source": [
    "df = pd.DataFrame({ 's' : np.asarray(x1_),\n",
    "                     'n' : np.asarray(x2_)})"
   ]
  },
  {
   "cell_type": "code",
   "execution_count": 52,
   "metadata": {
    "collapsed": false
   },
   "outputs": [
    {
     "name": "stderr",
     "output_type": "stream",
     "text": [
      "/Users/yamada/.anyenv/envs/pyenv/versions/anaconda3-2.4.0/lib/python3.5/site-packages/matplotlib/collections.py:590: FutureWarning: elementwise comparison failed; returning scalar instead, but in the future will perform elementwise comparison\n",
      "  if self._edgecolors == str('face'):\n"
     ]
    },
    {
     "data": {
      "image/png": "[encoded data removed]",
      "text/plain": [
       "<matplotlib.figure.Figure at 0x107caec50>"
      ]
     },
     "metadata": {},
     "output_type": "display_data"
    }
   ],
   "source": [
    "from scipy.spatial.distance import pdist\n",
    "from scipy.cluster.hierarchy import linkage, dendrogram\n",
    "\n",
    "zipped = [[x1_[i], x2_[i]] for i in range(len(x1_))]\n",
    "pdist = pdist((zipped))\n",
    "result = linkage(pdist, method='average')\n",
    "dendrogram(result)\n",
    "plt.show()"
   ]
  },
  {
   "cell_type": "code",
   "execution_count": 54,
   "metadata": {
    "collapsed": false
   },
   "outputs": [
    {
     "name": "stdout",
     "output_type": "stream",
     "text": [
      "(2.0, 3.0) (-1.0, -1.0)\n"
     ]
    }
   ],
   "source": [
    "a = (6, 4)\n",
    "b = (-2, 2)\n",
    "c = (0, -2)\n",
    "d = (-2, 0)\n",
    "ab = ((a[0] + b[0]) / 2, (a[1] + b[1]) / 2)\n",
    "cd = ((c[0] + d[0]) / 2, (c[1] + d[1]) / 2)\n",
    "print(ab, cd)"
   ]
  },
  {
   "cell_type": "code",
   "execution_count": 57,
   "metadata": {
    "collapsed": true
   },
   "outputs": [],
   "source": [
    "def dis_sq(a, b):\n",
    "    return ((a[0] - b[0])**2 + (a[1] - b[1])**2)"
   ]
  },
  {
   "cell_type": "code",
   "execution_count": 65,
   "metadata": {
    "collapsed": false
   },
   "outputs": [
    {
     "data": {
      "text/plain": [
       "74.0"
      ]
     },
     "execution_count": 65,
     "metadata": {},
     "output_type": "execute_result"
    }
   ],
   "source": [
    "dis_sq(cd, a)"
   ]
  },
  {
   "cell_type": "code",
   "execution_count": 83,
   "metadata": {
    "collapsed": false
   },
   "outputs": [
    {
     "name": "stdout",
     "output_type": "stream",
     "text": [
      "(-1.3333333333333333, 0.0)\n"
     ]
    }
   ],
   "source": [
    "bcd = ((b[0] + c[0] + d[0]) / 3, (b[1] + c[1] + d[1]) / 3)\n",
    "print(bcd)"
   ]
  },
  {
   "cell_type": "code",
   "execution_count": 73,
   "metadata": {
    "collapsed": false
   },
   "outputs": [
    {
     "data": {
      "text/plain": [
       "72"
      ]
     },
     "execution_count": 73,
     "metadata": {},
     "output_type": "execute_result"
    }
   ],
   "source": [
    "dis_sq(a, c)"
   ]
  },
  {
   "cell_type": "code",
   "execution_count": 88,
   "metadata": {
    "collapsed": false
   },
   "outputs": [
    {
     "name": "stdout",
     "output_type": "stream",
     "text": [
      "(2.0, 3.0) (-1.0, -1.0)\n",
      "\n",
      "17.0 74.0\n",
      "29.0 2.0\n",
      "17.0 10.0\n",
      "25.0 2.0\n",
      "(-1.3333333333333333, 0.0)\n",
      "0 69.77777777777777\n",
      "72 5.777777777777778\n",
      "68 4.444444444444445\n",
      "80 0.44444444444444453\n"
     ]
    }
   ],
   "source": [
    "def ns():\n",
    "    a = (6, 4)\n",
    "    b = (0, -2)\n",
    "    c = (-2, 2)\n",
    "    d = (-2, 0)\n",
    "    ac = ((a[0] + c[0]) / 2, (a[1] + c[1]) / 2)\n",
    "    bd = ((b[0] + d[0]) / 2, (b[1] + d[1]) / 2)\n",
    "    print(ac, bd)\n",
    "    print()\n",
    "    print(dis_sq(ac, a), dis_sq(bd, a))\n",
    "    print(dis_sq(ac, b), dis_sq(bd, b))\n",
    "    print(dis_sq(ac, c), dis_sq(bd, c))\n",
    "    print(dis_sq(ac, d), dis_sq(bd, d))\n",
    "    bcd = ((b[0] + c[0] + d[0]) / 3, (b[1] + c[1] + d[1]) / 3)\n",
    "    print(bcd)\n",
    "    print(dis_sq(a, a), dis_sq(bcd, a))\n",
    "    print(dis_sq(a, b), dis_sq(bcd, b))\n",
    "    print(dis_sq(a, c), dis_sq(bcd, c))\n",
    "    print(dis_sq(a, d), dis_sq(bcd, d))\n",
    "    \n",
    "\n",
    "ns()"
   ]
  },
  {
   "cell_type": "code",
   "execution_count": 91,
   "metadata": {
    "collapsed": false
   },
   "outputs": [
    {
     "name": "stdout",
     "output_type": "stream",
     "text": [
      "1 [6 4] 10\n",
      "0 [ 0 -2] -2\n",
      "0 [-2  2] 0\n",
      "0 [-2  0] -2\n"
     ]
    }
   ],
   "source": [
    "from sklearn.cluster import KMeans\n",
    "a = [6, 4]\n",
    "b = [0, -2]\n",
    "c = [-2, 2]\n",
    "d = [-2, 0]\n",
    "data = np.asarray([a, b, c, d])\n",
    "\n",
    "kmeans_model = KMeans(n_clusters=2, random_state=10).fit(data)\n",
    "labels = kmeans_model.labels_\n",
    "for label, d in zip(labels, data):\n",
    "    print(label, d, d.sum())"
   ]
  },
  {
   "cell_type": "code",
   "execution_count": 122,
   "metadata": {
    "collapsed": false,
    "scrolled": true
   },
   "outputs": [
    {
     "data": {
      "text/html": [
       "<div>\n",
       "<table border=\"1\" class=\"dataframe\">\n",
       "  <thead>\n",
       "    <tr style=\"text-align: right;\">\n",
       "      <th></th>\n",
       "      <th>こってり</th>\n",
       "      <th>遅さ</th>\n",
       "      <th>安さ</th>\n",
       "      <th>少なさ</th>\n",
       "      <th>馴染み</th>\n",
       "    </tr>\n",
       "    <tr>\n",
       "      <th>メニュー</th>\n",
       "      <th></th>\n",
       "      <th></th>\n",
       "      <th></th>\n",
       "      <th></th>\n",
       "      <th></th>\n",
       "    </tr>\n",
       "  </thead>\n",
       "  <tbody>\n",
       "    <tr>\n",
       "      <th>枝豆</th>\n",
       "      <td>1.68</td>\n",
       "      <td>1.448</td>\n",
       "      <td>4.142</td>\n",
       "      <td>2.808</td>\n",
       "      <td>4.84</td>\n",
       "    </tr>\n",
       "  </tbody>\n",
       "</table>\n",
       "</div>"
      ],
      "text/plain": [
       "      こってり     遅さ     安さ    少なさ   馴染み\n",
       "メニュー                                 \n",
       "枝豆    1.68  1.448  4.142  2.808  4.84"
      ]
     },
     "execution_count": 122,
     "metadata": {},
     "output_type": "execute_result"
    }
   ],
   "source": [
    "izakaya = pd.read_csv('../../Downloads/DL02045/Program/chap6/居酒屋.csv', index_col='メニュー')\n",
    "# izakaya = pd.read_csv('../../Downloads/DL02045/Program/chap6/居酒屋.csv')\n",
    "izakaya[0:1]"
   ]
  },
  {
   "cell_type": "code",
   "execution_count": 118,
   "metadata": {
    "collapsed": false,
    "scrolled": true
   },
   "outputs": [
    {
     "data": {
      "text/plain": [
       "array([[ 1.68 ,  1.448,  4.142,  2.808,  4.84 ],\n",
       "       [ 1.429,  1.662,  4.013,  3.481,  4.117],\n",
       "       [ 1.348,  1.478,  4.043,  3.551,  4.246],\n",
       "       [ 1.425,  1.63 ,  3.534,  3.26 ,  4.26 ],\n",
       "       [ 2.705,  1.769,  3.795,  3.41 ,  4.154],\n",
       "       [ 1.195,  1.468,  3.935,  3.662,  4.61 ],\n",
       "       [ 3.319,  1.971,  3.826,  2.754,  3.507],\n",
       "       [ 3.726,  2.945,  3.   ,  2.781,  2.466],\n",
       "       [ 1.295,  1.872,  3.641,  3.705,  2.91 ],\n",
       "       [ 4.221,  3.584,  2.818,  2.714,  4.675],\n",
       "       [ 4.232,  3.043,  3.304,  3.145,  4.087],\n",
       "       [ 4.466,  3.301,  2.89 ,  3.315,  3.11 ],\n",
       "       [ 4.308,  2.641,  3.603,  2.192,  4.628],\n",
       "       [ 3.727,  3.39 ,  3.299,  3.805,  3.675],\n",
       "       [ 3.29 ,  3.391,  3.058,  3.754,  3.362],\n",
       "       [ 3.671,  3.233,  3.082,  3.726,  4.479],\n",
       "       [ 3.615,  3.397,  2.91 ,  3.692,  3.872],\n",
       "       [ 3.078,  3.948,  2.779,  2.623,  3.935],\n",
       "       [ 1.71 ,  2.449,  2.855,  3.565,  2.957],\n",
       "       [ 1.877,  2.397,  2.027,  3.726,  4.219],\n",
       "       [ 1.423,  2.564,  2.654,  3.462,  3.269],\n",
       "       [ 2.455,  2.39 ,  2.052,  3.818,  2.935],\n",
       "       [ 2.971,  3.507,  2.681,  2.507,  3.826],\n",
       "       [ 4.342,  3.849,  1.973,  3.438,  3.274],\n",
       "       [ 2.936,  3.346,  3.115,  3.449,  3.128],\n",
       "       [ 3.623,  3.312,  2.961,  2.364,  4.117],\n",
       "       [ 4.304,  3.159,  3.348,  2.101,  4.362],\n",
       "       [ 3.753,  3.384,  3.082,  2.151,  4.055],\n",
       "       [ 4.744,  3.859,  2.385,  2.295,  3.897],\n",
       "       [ 4.468,  3.948,  2.805,  2.442,  3.753],\n",
       "       [ 3.551,  3.681,  2.333,  2.609,  3.42 ],\n",
       "       [ 1.356,  1.932,  3.452,  3.123,  4.411],\n",
       "       [ 2.205,  2.359,  3.628,  2.962,  4.346]])"
      ]
     },
     "execution_count": 118,
     "metadata": {},
     "output_type": "execute_result"
    }
   ],
   "source": [
    "izakaya_ = np.asarray(izakaya.values)\n",
    "izakaya_"
   ]
  },
  {
   "cell_type": "code",
   "execution_count": 119,
   "metadata": {
    "collapsed": false
   },
   "outputs": [
    {
     "name": "stdout",
     "output_type": "stream",
     "text": [
      "1 [ 1.68   1.448  4.142  2.808  4.84 ] 14.918\n",
      "1 [ 1.429  1.662  4.013  3.481  4.117] 14.702\n",
      "1 [ 1.348  1.478  4.043  3.551  4.246] 14.666\n",
      "1 [ 1.425  1.63   3.534  3.26   4.26 ] 14.109\n",
      "1 [ 2.705  1.769  3.795  3.41   4.154] 15.833\n",
      "1 [ 1.195  1.468  3.935  3.662  4.61 ] 14.87\n",
      "0 [ 3.319  1.971  3.826  2.754  3.507] 15.377\n",
      "0 [ 3.726  2.945  3.     2.781  2.466] 14.918\n",
      "2 [ 1.295  1.872  3.641  3.705  2.91 ] 13.423\n",
      "3 [ 4.221  3.584  2.818  2.714  4.675] 18.012\n",
      "3 [ 4.232  3.043  3.304  3.145  4.087] 17.811\n",
      "0 [ 4.466  3.301  2.89   3.315  3.11 ] 17.082\n",
      "3 [ 4.308  2.641  3.603  2.192  4.628] 17.372\n",
      "0 [ 3.727  3.39   3.299  3.805  3.675] 17.896\n",
      "0 [ 3.29   3.391  3.058  3.754  3.362] 16.855\n",
      "0 [ 3.671  3.233  3.082  3.726  4.479] 18.191\n",
      "0 [ 3.615  3.397  2.91   3.692  3.872] 17.486\n",
      "3 [ 3.078  3.948  2.779  2.623  3.935] 16.363\n",
      "2 [ 1.71   2.449  2.855  3.565  2.957] 13.536\n",
      "2 [ 1.877  2.397  2.027  3.726  4.219] 14.246\n",
      "2 [ 1.423  2.564  2.654  3.462  3.269] 13.372\n",
      "2 [ 2.455  2.39   2.052  3.818  2.935] 13.65\n",
      "3 [ 2.971  3.507  2.681  2.507  3.826] 15.492\n",
      "0 [ 4.342  3.849  1.973  3.438  3.274] 16.876\n",
      "0 [ 2.936  3.346  3.115  3.449  3.128] 15.974\n",
      "3 [ 3.623  3.312  2.961  2.364  4.117] 16.377\n",
      "3 [ 4.304  3.159  3.348  2.101  4.362] 17.274\n",
      "3 [ 3.753  3.384  3.082  2.151  4.055] 16.425\n",
      "3 [ 4.744  3.859  2.385  2.295  3.897] 17.18\n",
      "3 [ 4.468  3.948  2.805  2.442  3.753] 17.416\n",
      "3 [ 3.551  3.681  2.333  2.609  3.42 ] 15.594\n",
      "1 [ 1.356  1.932  3.452  3.123  4.411] 14.274\n",
      "1 [ 2.205  2.359  3.628  2.962  4.346] 15.5\n"
     ]
    }
   ],
   "source": [
    "kmeans_model = KMeans(n_clusters=4, random_state=10).fit(izakaya_)\n",
    "labels = kmeans_model.labels_\n",
    "for label, d in zip(labels, izakaya_):\n",
    "    print(label, d)"
   ]
  },
  {
   "cell_type": "code",
   "execution_count": 124,
   "metadata": {
    "collapsed": false
   },
   "outputs": [
    {
     "name": "stderr",
     "output_type": "stream",
     "text": [
      "/Users/yamada/.anyenv/envs/pyenv/versions/anaconda3-2.4.0/lib/python3.5/site-packages/matplotlib/collections.py:590: FutureWarning: elementwise comparison failed; returning scalar instead, but in the future will perform elementwise comparison\n",
      "  if self._edgecolors == str('face'):\n"
     ]
    },
    {
     "data": {
      "image/png": "[encoded data removed]",
      "text/plain": [
       "<matplotlib.figure.Figure at 0x109ee1978>"
      ]
     },
     "metadata": {},
     "output_type": "display_data"
    }
   ],
   "source": [
    "sns.pairplot(izakaya)\n",
    "sns.plt.show()"
   ]
  },
  {
   "cell_type": "code",
   "execution_count": null,
   "metadata": {
    "collapsed": true
   },
   "outputs": [],
   "source": []
  }
 ],
 "metadata": {
  "kernelspec": {
   "display_name": "Python 3",
   "language": "python",
   "name": "python3"
  },
  "language_info": {
   "codemirror_mode": {
    "name": "ipython",
    "version": 3
   },
   "file_extension": ".py",
   "mimetype": "text/x-python",
   "name": "python",
   "nbconvert_exporter": "python",
   "pygments_lexer": "ipython3",
   "version": "3.5.0"
  }
 },
 "nbformat": 4,
 "nbformat_minor": 0
}
