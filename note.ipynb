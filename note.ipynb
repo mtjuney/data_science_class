{
 "cells": [
  {
   "cell_type": "markdown",
   "metadata": {},
   "source": [
    "# ノート"
   ]
  },
  {
   "cell_type": "code",
   "execution_count": 1,
   "metadata": {
    "collapsed": true
   },
   "outputs": [],
   "source": [
    "import numpy as np\n",
    "from numpy import linalg as la"
   ]
  },
  {
   "cell_type": "markdown",
   "metadata": {},
   "source": [
    "# PageRank"
   ]
  },
  {
   "cell_type": "markdown",
   "metadata": {},
   "source": [
    "天気での例\n",
    "定常確率を求めるまで"
   ]
  },
  {
   "cell_type": "code",
   "execution_count": 12,
   "metadata": {
    "collapsed": false
   },
   "outputs": [
    {
     "name": "stdout",
     "output_type": "stream",
     "text": [
      "[[ 0.7  0.5  0.4]\n",
      " [ 0.2  0.2  0.5]\n",
      " [ 0.1  0.3  0.1]]\n",
      "[ 1.          0.24494897 -0.24494897]\n",
      "[[ 0.90419255  0.81511137  0.14072662]\n",
      " [ 0.36484963 -0.44872717 -0.76688827]\n",
      " [ 0.22208238 -0.3663842   0.62616165]]\n",
      "[ 0.60638298  0.24468085  0.14893617]\n",
      "1.0\n"
     ]
    }
   ],
   "source": [
    "A = [[0.7, 0.5, 0.4], [0.2, 0.2, 0.5], [0.1, 0.3, 0.1]]\n",
    "A = np.asarray(A)\n",
    "ef, ev = la.eig(A)\n",
    "p = ev[:,0] * (1 / ev[:,0].sum())\n",
    "print(A)\n",
    "print(ef)\n",
    "print(ev)\n",
    "print(p)\n",
    "print(p.sum())"
   ]
  },
  {
   "cell_type": "markdown",
   "metadata": {},
   "source": [
    "ページ遷移の定常状態を考えると，リンクを張っていないページが有ると絶対にそこに行ってしまう．\n",
    "\n",
    "なので，リンクを張っていないページからは(自分のページへも含め)全てのページに均等に遷移するということにする．\n",
    "\n",
    "ページ数は膨大にある．\n",
    "しかし，リンクの行列はだいたい疎なので，工夫すればよさそう"
   ]
  },
  {
   "cell_type": "markdown",
   "metadata": {},
   "source": [
    "## Compressed Row Storage(CRS)\n",
    "\n",
    "をつかったやりかた\n",
    "\n",
    "val: 値の配列\n",
    "col_index: valに対応する列番号\n",
    "row_ptr: 最初は0，その後は各行の最後になる要素に対応するvalのインデックス番号\n",
    "\n",
    "```\n",
    "for i=1, n\n",
    "    for j=row_ptr[i-1]+1, row_ptr[i]\n",
    "        y[i] = y[i] + val[j] * x[col_index[j]]\n",
    "```\n"
   ]
  },
  {
   "cell_type": "markdown",
   "metadata": {},
   "source": [
    "近接相互作用，みたいなのも近くの要素としか関連しないので，こういうのが使える"
   ]
  },
  {
   "cell_type": "markdown",
   "metadata": {},
   "source": [
    "途中経過を残していくのは大切だよという話\n",
    "\n",
    "計算も，思考も"
   ]
  },
  {
   "cell_type": "code",
   "execution_count": null,
   "metadata": {
    "collapsed": true
   },
   "outputs": [],
   "source": []
  }
 ],
 "metadata": {
  "kernelspec": {
   "display_name": "Python 3",
   "language": "python",
   "name": "python3"
  },
  "language_info": {
   "codemirror_mode": {
    "name": "ipython",
    "version": 3
   },
   "file_extension": ".py",
   "mimetype": "text/x-python",
   "name": "python",
   "nbconvert_exporter": "python",
   "pygments_lexer": "ipython3",
   "version": "3.5.1"
  }
 },
 "nbformat": 4,
 "nbformat_minor": 0
}
